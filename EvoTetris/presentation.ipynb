{
 "cells": [
  {
   "cell_type": "markdown",
   "metadata": {},
   "source": [
    "# Evolutionary AI for Tetris \n",
    "\n",
    "![alt text](https://i0.wp.com/idreesinc.com/wp-content/uploads/TetNet_GIF_1.gif?zoom=2&resize=480%2C333 \"Logo Title Text 1\")\n",
    "\n",
    "What are evolutionary aka genetic algorithms?\n",
    "\n",
    "## Step 1 - Selection. \n",
    "- Create a population of genomes (sometimes called chromosomes) \n",
    "- Each has multiple 'genes' that represent its parameters\n",
    "- use a fitness function to select the best ones\n",
    "\n",
    "## Step 2 - Crossover\n",
    "- For the fittest genomes, perform some merging computation to produce offspring\n",
    "\n",
    "## Step 3 - Mutation\n",
    "- Randomly edit genes of the children in the hope of creating more beneficial features\n",
    "\n",
    "![alt text](http://www.cl.cam.ac.uk/~ijw24/shw23/research/Survey/images/Figure%202.7.gif \"Logo Title Text 1\")\n",
    "\n",
    "## Where is this used?\n",
    "- neuroevolution (learning to learn hyperparameters for neural networks)\n",
    "https://www.youtube.com/watch?v=tmltm0ZHkHw\n",
    "- backprop is still most popular, but this has promise. sometimes gradient descent can't discover a global minima. Evolutionary algorithms do not stop at merely being able to discover neural network connection weights. It can also be extended to discover entire neural networks.\n",
    "\n",
    "## In the context of Tetris, \n",
    "- We initialize a population of 50 genomes.\n",
    "- Each genome is a set of 7 parameter values of the game state\n",
    "- Our AI makes moves based on these parameters values\n",
    "- It tries out all possible moves based on each genomes in the current population to make a single move\n",
    "- once we've gone through all genomes in the population we create a new set via crossover\n",
    "- the goal is to get a score of at least 500. we keep evolving until then \n",
    "\n",
    "## Score calculation \n",
    "- Each time a block moves down, the score is incremented by one \n",
    "- When a row is cleared, the score is also increased depending on how many rows are cleared at once\n",
    "- The goal is to get to 500 without the blocks stacking up over the ceiling\n",
    "\n",
    "## Function Order we'll discuss after setting global parameters and initialize()\n",
    "\n",
    "- 1 createinitialpopulation\n",
    "\n",
    "- 2 evaluatenextgenome (SELECTION)\n",
    "- 3 evolve (CROSSOVER)\n",
    "- 4 makechild (MUTATION)\n",
    "- 5 makenextmove\n",
    "- 6 getAllPossibleMoves\n",
    "- 7 gethighestratedmove\n",
    "- 8 update\n",
    "\n",
    "The rest are less significant helper functions we'll talk about.\n"
   ]
  },
  {
   "cell_type": "code",
   "execution_count": null,
   "metadata": {
    "collapsed": true
   },
   "outputs": [],
   "source": []
  }
 ],
 "metadata": {
  "kernelspec": {
   "display_name": "Python 3",
   "language": "python",
   "name": "python3"
  },
  "language_info": {
   "codemirror_mode": {
    "name": "ipython",
    "version": 3
   },
   "file_extension": ".py",
   "mimetype": "text/x-python",
   "name": "python",
   "nbconvert_exporter": "python",
   "pygments_lexer": "ipython3",
   "version": "3.6.0"
  }
 },
 "nbformat": 4,
 "nbformat_minor": 2
}
